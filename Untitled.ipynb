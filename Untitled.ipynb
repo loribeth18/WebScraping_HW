{
 "cells": [
  {
   "cell_type": "code",
   "execution_count": 22,
   "metadata": {},
   "outputs": [],
   "source": [
    "# Dependencies\n",
    "from bs4 import BeautifulSoup \n",
    "import requests\n",
    "import pymongo\n",
    "from splinter import Browser\n",
    "import os\n",
    "import pandas as pd\n",
    "import shutil\n",
    "import datetime as dt\n",
    "\n",
    "\n",
    "def init_browser():\n",
    "    executable_path = {\"executable_path\": \"chromedriver\"}\n",
    "    return Browser(\"chrome\", **executable_path, headless=False)\n",
    "\n",
    "# Initialize PyMongo to work with MongoDBs\n",
    "conn = 'mongodb://localhost:27017/marsdb'\n",
    "client = pymongo.MongoClient(conn)\n",
    "\n",
    "\n",
    "# Define database and collection\n",
    "\n",
    "db = client.marsdb\n",
    "collection = db.items"
   ]
  },
  {
   "cell_type": "code",
   "execution_count": 23,
   "metadata": {},
   "outputs": [],
   "source": [
    "browser=init_browser()\n",
    "\n",
    "# URL of page to be scraped\n",
    "\n",
    "#news title and news p\n",
    "url = 'https://mars.nasa.gov/news'\n",
    "browser.visit(url)\n",
    "html = browser.html\n",
    "soup = BeautifulSoup(html, 'lxml')\n",
    "news = soup.find('div', class_='content_title').find('a').text\n",
    "news_title = soup.find('div', class_='content_title').find('a').text\n",
    "news_p = soup.find('div', class_='article_teaser_body').text\n",
    "\n",
    "#featured image\n",
    "featured_image_url = \"https://www.jpl.nasa.gov/spaceimages/?search=&category=Mars\"\n",
    "browser.visit(featured_image_url)\n",
    "#Make sure to save a complete url string for this image.\n",
    "html = browser.html\n",
    "soup = BeautifulSoup(html, 'lxml')\n",
    "img_url = soup.find(\"a\", class_=\"fancybox\")['data-fancybox-href']\n",
    "root = \"https://www.jpl.nasa.gov\"\n",
    "\n",
    "fullURL = root+img_url\n",
    "# Close the browser after scraping\n",
    "browser.quit()"
   ]
  },
  {
   "cell_type": "code",
   "execution_count": 29,
   "metadata": {},
   "outputs": [],
   "source": [
    "marsdata = {\n",
    "       \"news_title\": news_title,\n",
    "       \"news_paragraph\": news_p,\n",
    "       \"featured_image\": fullURL,\n",
    "       \"last_modified\": dt.datetime.now()\n",
    "}"
   ]
  },
  {
   "cell_type": "code",
   "execution_count": 30,
   "metadata": {},
   "outputs": [
    {
     "data": {
      "text/plain": [
       "{'news_title': 'Why This Martian Full Moon Looks Like Candy',\n",
       " 'news_paragraph': \"For the first time, NASA's Mars Odyssey orbiter has caught the Martian moon Phobos during a full moon phase. Each color in this new image represents a temperature range detected by Odyssey's infrared camera.\",\n",
       " 'featured_image': 'https://www.jpl.nasa.gov/spaceimages/images/mediumsize/PIA16029_ip.jpg',\n",
       " 'last_modified': datetime.datetime(2019, 5, 11, 14, 30, 10, 747806)}"
      ]
     },
     "execution_count": 30,
     "metadata": {},
     "output_type": "execute_result"
    }
   ],
   "source": [
    "marsdata"
   ]
  },
  {
   "cell_type": "code",
   "execution_count": 32,
   "metadata": {},
   "outputs": [
    {
     "name": "stderr",
     "output_type": "stream",
     "text": [
      "C:\\Users\\lorib\\Anaconda3\\lib\\site-packages\\ipykernel_launcher.py:1: DeprecationWarning: update is deprecated. Use replace_one, update_one or update_many instead.\n",
      "  \"\"\"Entry point for launching an IPython kernel.\n"
     ]
    },
    {
     "data": {
      "text/plain": [
       "{'n': 1,\n",
       " 'nModified': 0,\n",
       " 'upserted': ObjectId('5cd722e40a3362dc77c2e116'),\n",
       " 'ok': 1.0,\n",
       " 'updatedExisting': False}"
      ]
     },
     "execution_count": 32,
     "metadata": {},
     "output_type": "execute_result"
    }
   ],
   "source": [
    "collection.update({}, marsdata, upsert=True)"
   ]
  },
  {
   "cell_type": "code",
   "execution_count": null,
   "metadata": {},
   "outputs": [],
   "source": []
  }
 ],
 "metadata": {
  "kernelspec": {
   "display_name": "Python 3",
   "language": "python",
   "name": "python3"
  },
  "language_info": {
   "codemirror_mode": {
    "name": "ipython",
    "version": 3
   },
   "file_extension": ".py",
   "mimetype": "text/x-python",
   "name": "python",
   "nbconvert_exporter": "python",
   "pygments_lexer": "ipython3",
   "version": "3.7.1"
  }
 },
 "nbformat": 4,
 "nbformat_minor": 2
}
